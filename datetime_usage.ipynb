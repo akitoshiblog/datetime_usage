{
 "cells": [
  {
   "cell_type": "markdown",
   "metadata": {},
   "source": [
    "# Datetime usage"
   ]
  },
  {
   "cell_type": "code",
   "execution_count": 1,
   "metadata": {
    "scrolled": true
   },
   "outputs": [
    {
     "name": "stderr",
     "output_type": "stream",
     "text": [
      "/home/toshiaki/.pyenv/versions/3.7.2/envs/douEnv/lib/python3.7/site-packages/pandas/compat/__init__.py:117: UserWarning: Could not import the lzma module. Your installed Python is incomplete. Attempting to use lzma compression will result in a RuntimeError.\n",
      "  warnings.warn(msg)\n"
     ]
    }
   ],
   "source": [
    "import datetime \n",
    "import numpy as np\n",
    "import pandas as pd\n",
    "\n",
    "import matplotlib.pyplot as plt\n",
    "import matplotlib.dates as mdates\n",
    "%matplotlib inline\n"
   ]
  },
  {
   "cell_type": "code",
   "execution_count": 2,
   "metadata": {},
   "outputs": [],
   "source": [
    "def print_variable(v,s):\n",
    "    \"\"\"Print variabels with text, value, object representation, type. \n",
    "    \"\"\"\n",
    "    print(f\"{s} : {v}, {repr(v)}, {type(v)}\") "
   ]
  },
  {
   "cell_type": "markdown",
   "metadata": {},
   "source": [
    "#  Kinds of datetime"
   ]
  },
  {
   "cell_type": "code",
   "execution_count": 3,
   "metadata": {},
   "outputs": [],
   "source": [
    "d1 = datetime.datetime(2020,1,2) # datetime object\n",
    "d2 = np.datetime64(\"2020-01-02\") # np.datetime64 object\n",
    "d3 = pd.Timestamp(2020,1,2) # Timestamp object"
   ]
  },
  {
   "cell_type": "code",
   "execution_count": 4,
   "metadata": {},
   "outputs": [
    {
     "name": "stdout",
     "output_type": "stream",
     "text": [
      "d1 : 2020-01-02 00:00:00, datetime.datetime(2020, 1, 2, 0, 0), <class 'datetime.datetime'>\n",
      "d2 : 2020-01-02, numpy.datetime64('2020-01-02'), <class 'numpy.datetime64'>\n",
      "d3 : 2020-01-02 00:00:00, Timestamp('2020-01-02 00:00:00'), <class 'pandas._libs.tslibs.timestamps.Timestamp'>\n"
     ]
    }
   ],
   "source": [
    "print_variable(d1,\"d1\")\n",
    "print_variable(d2,\"d2\")\n",
    "print_variable(d3,\"d3\")"
   ]
  },
  {
   "cell_type": "markdown",
   "metadata": {},
   "source": [
    "## Conversion between date type object. "
   ]
  },
  {
   "cell_type": "code",
   "execution_count": 5,
   "metadata": {},
   "outputs": [],
   "source": [
    "# datetime.datetime to np.datetime64\n",
    "d1_2 = np.datetime64(d1)\n",
    "# datetime.datetime to Timestamp\n",
    "d1_3 = pd.Timestamp(d1)\n",
    "# np.datetime64 to datetime.datetime\n",
    "d2_1 = d2.astype(datetime.datetime)\n",
    "# np.datetime64 to Timestamp \n",
    "d2_3 = pd.Timestamp(d2)\n",
    "# Timestamp to datetime.datetime\n",
    "d3_1 = d3.to_pydatetime()\n",
    "# Timestamp to np.datetime64\n",
    "d3_2 = d3.to_datetime64()"
   ]
  },
  {
   "cell_type": "code",
   "execution_count": 6,
   "metadata": {},
   "outputs": [
    {
     "name": "stdout",
     "output_type": "stream",
     "text": [
      "d1_2 : 2020-01-02T00:00:00.000000, numpy.datetime64('2020-01-02T00:00:00.000000'), <class 'numpy.datetime64'>\n",
      "d1_3 : 2020-01-02 00:00:00, Timestamp('2020-01-02 00:00:00'), <class 'pandas._libs.tslibs.timestamps.Timestamp'>\n",
      "d2_1 : 2020-01-02, datetime.date(2020, 1, 2), <class 'datetime.date'>\n",
      "d2_3 : 2020-01-02 00:00:00, Timestamp('2020-01-02 00:00:00'), <class 'pandas._libs.tslibs.timestamps.Timestamp'>\n",
      "d3_1 : 2020-01-02 00:00:00, datetime.datetime(2020, 1, 2, 0, 0), <class 'datetime.datetime'>\n",
      "d3_2 : 2020-01-02T00:00:00.000000000, numpy.datetime64('2020-01-02T00:00:00.000000000'), <class 'numpy.datetime64'>\n"
     ]
    }
   ],
   "source": [
    "print_variable(d1_2,\"d1_2\")\n",
    "print_variable(d1_3,\"d1_3\")\n",
    "print_variable(d2_1,\"d2_1\")\n",
    "print_variable(d2_3,\"d2_3\")\n",
    "print_variable(d3_1,\"d3_1\")\n",
    "print_variable(d3_2,\"d3_2\")"
   ]
  },
  {
   "cell_type": "markdown",
   "metadata": {},
   "source": [
    "# Convert string to Timestamp "
   ]
  },
  {
   "cell_type": "code",
   "execution_count": 7,
   "metadata": {},
   "outputs": [],
   "source": [
    "ex1 = pd.to_datetime(\"20200102\")\n",
    "ex2 = pd.to_datetime(\"2020-01-02\")\n",
    "ex3 = pd.to_datetime(\"2020 01 02\")\n",
    "ex4 = pd.to_datetime(\"2020-1 2\")\n",
    "ex5 = pd.to_datetime(\"2020/01/02\")\n",
    "ex6 = pd.to_datetime(\"2020/01/02\", format='%Y/%m/%d')\n",
    "ex7 = pd.to_datetime(1577923200000000000, unit=\"ns\")\n",
    "ex8 = pd.to_datetime(1577923200, unit=\"s\")"
   ]
  },
  {
   "cell_type": "code",
   "execution_count": 8,
   "metadata": {},
   "outputs": [
    {
     "name": "stdout",
     "output_type": "stream",
     "text": [
      "ex1 : 2020-01-02 00:00:00, Timestamp('2020-01-02 00:00:00'), <class 'pandas._libs.tslibs.timestamps.Timestamp'>\n",
      "ex2 : 2020-01-02 00:00:00, Timestamp('2020-01-02 00:00:00'), <class 'pandas._libs.tslibs.timestamps.Timestamp'>\n",
      "ex3 : 2020-01-02 00:00:00, Timestamp('2020-01-02 00:00:00'), <class 'pandas._libs.tslibs.timestamps.Timestamp'>\n",
      "ex4 : 2020-01-02 00:00:00, Timestamp('2020-01-02 00:00:00'), <class 'pandas._libs.tslibs.timestamps.Timestamp'>\n",
      "ex5 : 2020-01-02 00:00:00, Timestamp('2020-01-02 00:00:00'), <class 'pandas._libs.tslibs.timestamps.Timestamp'>\n",
      "ex6 : 2020-01-02 00:00:00, Timestamp('2020-01-02 00:00:00'), <class 'pandas._libs.tslibs.timestamps.Timestamp'>\n",
      "ex7 : 2020-01-02 00:00:00, Timestamp('2020-01-02 00:00:00'), <class 'pandas._libs.tslibs.timestamps.Timestamp'>\n",
      "ex8 : 2020-01-02 00:00:00, Timestamp('2020-01-02 00:00:00'), <class 'pandas._libs.tslibs.timestamps.Timestamp'>\n"
     ]
    }
   ],
   "source": [
    "print_variable(ex1, \"ex1\")\n",
    "print_variable(ex2, \"ex2\")\n",
    "print_variable(ex3, \"ex3\")\n",
    "print_variable(ex4, \"ex4\")\n",
    "print_variable(ex5, \"ex5\")\n",
    "print_variable(ex6, \"ex6\")\n",
    "print_variable(ex7, \"ex7\")\n",
    "print_variable(ex8, \"ex8\")"
   ]
  },
  {
   "cell_type": "markdown",
   "metadata": {},
   "source": [
    "# Read data"
   ]
  },
  {
   "cell_type": "code",
   "execution_count": 9,
   "metadata": {},
   "outputs": [
    {
     "data": {
      "text/html": [
       "<div>\n",
       "<style scoped>\n",
       "    .dataframe tbody tr th:only-of-type {\n",
       "        vertical-align: middle;\n",
       "    }\n",
       "\n",
       "    .dataframe tbody tr th {\n",
       "        vertical-align: top;\n",
       "    }\n",
       "\n",
       "    .dataframe thead th {\n",
       "        text-align: right;\n",
       "    }\n",
       "</style>\n",
       "<table border=\"1\" class=\"dataframe\">\n",
       "  <thead>\n",
       "    <tr style=\"text-align: right;\">\n",
       "      <th></th>\n",
       "      <th>A</th>\n",
       "      <th>B</th>\n",
       "      <th>C</th>\n",
       "      <th>D</th>\n",
       "      <th>E</th>\n",
       "    </tr>\n",
       "  </thead>\n",
       "  <tbody>\n",
       "    <tr>\n",
       "      <th>0</th>\n",
       "      <td>2020-01-05</td>\n",
       "      <td>2020-01-02</td>\n",
       "      <td>2020-01-02</td>\n",
       "      <td>2020-01-02 00:00:00</td>\n",
       "      <td>10</td>\n",
       "    </tr>\n",
       "    <tr>\n",
       "      <th>1</th>\n",
       "      <td>2020-01-06</td>\n",
       "      <td>2020-01-03</td>\n",
       "      <td>2020-01-03</td>\n",
       "      <td>2020-01-03 00:00:00</td>\n",
       "      <td>5</td>\n",
       "    </tr>\n",
       "    <tr>\n",
       "      <th>2</th>\n",
       "      <td>2020-01-07</td>\n",
       "      <td>NaT</td>\n",
       "      <td>2020-01-04</td>\n",
       "      <td>a</td>\n",
       "      <td>8</td>\n",
       "    </tr>\n",
       "    <tr>\n",
       "      <th>3</th>\n",
       "      <td>2020-01-08</td>\n",
       "      <td>2020-01-05</td>\n",
       "      <td>2020-01-05</td>\n",
       "      <td>2020-01-05 00:00:00</td>\n",
       "      <td>1</td>\n",
       "    </tr>\n",
       "  </tbody>\n",
       "</table>\n",
       "</div>"
      ],
      "text/plain": [
       "           A          B           C                    D   E\n",
       "0 2020-01-05 2020-01-02  2020-01-02  2020-01-02 00:00:00  10\n",
       "1 2020-01-06 2020-01-03  2020-01-03  2020-01-03 00:00:00   5\n",
       "2 2020-01-07        NaT  2020-01-04                    a   8\n",
       "3 2020-01-08 2020-01-05  2020-01-05  2020-01-05 00:00:00   1"
      ]
     },
     "metadata": {},
     "output_type": "display_data"
    },
    {
     "name": "stdout",
     "output_type": "stream",
     "text": [
      "A    datetime64[ns]\n",
      "B    datetime64[ns]\n",
      "C            object\n",
      "D            object\n",
      "E             int64\n",
      "dtype: object\n"
     ]
    }
   ],
   "source": [
    "df = pd.read_excel(\"./sample_datetime.xlsx\")\n",
    "display(df)\n",
    "print(df.dtypes)"
   ]
  },
  {
   "cell_type": "code",
   "execution_count": 10,
   "metadata": {},
   "outputs": [
    {
     "name": "stdout",
     "output_type": "stream",
     "text": [
      "A0 : 2020-01-05 00:00:00, Timestamp('2020-01-05 00:00:00'), <class 'pandas._libs.tslibs.timestamps.Timestamp'>\n",
      "B0 : 2020-01-02 00:00:00, Timestamp('2020-01-02 00:00:00'), <class 'pandas._libs.tslibs.timestamps.Timestamp'>\n",
      "C0 : 2020-01-02, '2020-01-02', <class 'str'>\n",
      "D0 : 2020-01-02 00:00:00, datetime.datetime(2020, 1, 2, 0, 0), <class 'datetime.datetime'>\n",
      "E0 : 10, 10, <class 'numpy.int64'>\n"
     ]
    }
   ],
   "source": [
    "for c in df.columns:\n",
    "    v  = df[c].iloc[0]\n",
    "    print_variable(v,f\"{c}0\")"
   ]
  },
  {
   "cell_type": "markdown",
   "metadata": {},
   "source": [
    "# Convert object to Timestamp"
   ]
  },
  {
   "cell_type": "code",
   "execution_count": 11,
   "metadata": {},
   "outputs": [],
   "source": [
    "df = pd.read_excel(\"./sample_datetime.xlsx\")\n",
    "df[\"C\"] = pd.to_datetime(df[\"C\"])\n",
    "df[\"D\"] = pd.to_datetime(df[\"D\"], errors=\"coerce\")"
   ]
  },
  {
   "cell_type": "code",
   "execution_count": 12,
   "metadata": {},
   "outputs": [
    {
     "data": {
      "text/html": [
       "<div>\n",
       "<style scoped>\n",
       "    .dataframe tbody tr th:only-of-type {\n",
       "        vertical-align: middle;\n",
       "    }\n",
       "\n",
       "    .dataframe tbody tr th {\n",
       "        vertical-align: top;\n",
       "    }\n",
       "\n",
       "    .dataframe thead th {\n",
       "        text-align: right;\n",
       "    }\n",
       "</style>\n",
       "<table border=\"1\" class=\"dataframe\">\n",
       "  <thead>\n",
       "    <tr style=\"text-align: right;\">\n",
       "      <th></th>\n",
       "      <th>A</th>\n",
       "      <th>B</th>\n",
       "      <th>C</th>\n",
       "      <th>D</th>\n",
       "      <th>E</th>\n",
       "    </tr>\n",
       "  </thead>\n",
       "  <tbody>\n",
       "    <tr>\n",
       "      <th>0</th>\n",
       "      <td>2020-01-05</td>\n",
       "      <td>2020-01-02</td>\n",
       "      <td>2020-01-02</td>\n",
       "      <td>2020-01-02</td>\n",
       "      <td>10</td>\n",
       "    </tr>\n",
       "    <tr>\n",
       "      <th>1</th>\n",
       "      <td>2020-01-06</td>\n",
       "      <td>2020-01-03</td>\n",
       "      <td>2020-01-03</td>\n",
       "      <td>2020-01-03</td>\n",
       "      <td>5</td>\n",
       "    </tr>\n",
       "    <tr>\n",
       "      <th>2</th>\n",
       "      <td>2020-01-07</td>\n",
       "      <td>NaT</td>\n",
       "      <td>2020-01-04</td>\n",
       "      <td>NaT</td>\n",
       "      <td>8</td>\n",
       "    </tr>\n",
       "    <tr>\n",
       "      <th>3</th>\n",
       "      <td>2020-01-08</td>\n",
       "      <td>2020-01-05</td>\n",
       "      <td>2020-01-05</td>\n",
       "      <td>2020-01-05</td>\n",
       "      <td>1</td>\n",
       "    </tr>\n",
       "  </tbody>\n",
       "</table>\n",
       "</div>"
      ],
      "text/plain": [
       "           A          B          C          D   E\n",
       "0 2020-01-05 2020-01-02 2020-01-02 2020-01-02  10\n",
       "1 2020-01-06 2020-01-03 2020-01-03 2020-01-03   5\n",
       "2 2020-01-07        NaT 2020-01-04        NaT   8\n",
       "3 2020-01-08 2020-01-05 2020-01-05 2020-01-05   1"
      ]
     },
     "metadata": {},
     "output_type": "display_data"
    },
    {
     "name": "stdout",
     "output_type": "stream",
     "text": [
      "A    datetime64[ns]\n",
      "B    datetime64[ns]\n",
      "C    datetime64[ns]\n",
      "D    datetime64[ns]\n",
      "E             int64\n",
      "dtype: object\n"
     ]
    }
   ],
   "source": [
    "display(df)\n",
    "print(df.dtypes)"
   ]
  },
  {
   "cell_type": "code",
   "execution_count": 13,
   "metadata": {},
   "outputs": [],
   "source": [
    "df[\"diff\"] = df[\"A\"] - df[\"B\"]\n",
    "df[\"diff_f\"] = (df[\"A\"] - df[\"B\"])/pd.Timedelta(1, \"D\")"
   ]
  },
  {
   "cell_type": "code",
   "execution_count": 14,
   "metadata": {},
   "outputs": [
    {
     "data": {
      "text/html": [
       "<div>\n",
       "<style scoped>\n",
       "    .dataframe tbody tr th:only-of-type {\n",
       "        vertical-align: middle;\n",
       "    }\n",
       "\n",
       "    .dataframe tbody tr th {\n",
       "        vertical-align: top;\n",
       "    }\n",
       "\n",
       "    .dataframe thead th {\n",
       "        text-align: right;\n",
       "    }\n",
       "</style>\n",
       "<table border=\"1\" class=\"dataframe\">\n",
       "  <thead>\n",
       "    <tr style=\"text-align: right;\">\n",
       "      <th></th>\n",
       "      <th>A</th>\n",
       "      <th>B</th>\n",
       "      <th>C</th>\n",
       "      <th>D</th>\n",
       "      <th>E</th>\n",
       "      <th>diff</th>\n",
       "      <th>diff_f</th>\n",
       "    </tr>\n",
       "  </thead>\n",
       "  <tbody>\n",
       "    <tr>\n",
       "      <th>0</th>\n",
       "      <td>2020-01-05</td>\n",
       "      <td>2020-01-02</td>\n",
       "      <td>2020-01-02</td>\n",
       "      <td>2020-01-02</td>\n",
       "      <td>10</td>\n",
       "      <td>3 days</td>\n",
       "      <td>3.0</td>\n",
       "    </tr>\n",
       "    <tr>\n",
       "      <th>1</th>\n",
       "      <td>2020-01-06</td>\n",
       "      <td>2020-01-03</td>\n",
       "      <td>2020-01-03</td>\n",
       "      <td>2020-01-03</td>\n",
       "      <td>5</td>\n",
       "      <td>3 days</td>\n",
       "      <td>3.0</td>\n",
       "    </tr>\n",
       "    <tr>\n",
       "      <th>2</th>\n",
       "      <td>2020-01-07</td>\n",
       "      <td>NaT</td>\n",
       "      <td>2020-01-04</td>\n",
       "      <td>NaT</td>\n",
       "      <td>8</td>\n",
       "      <td>NaT</td>\n",
       "      <td>NaN</td>\n",
       "    </tr>\n",
       "    <tr>\n",
       "      <th>3</th>\n",
       "      <td>2020-01-08</td>\n",
       "      <td>2020-01-05</td>\n",
       "      <td>2020-01-05</td>\n",
       "      <td>2020-01-05</td>\n",
       "      <td>1</td>\n",
       "      <td>3 days</td>\n",
       "      <td>3.0</td>\n",
       "    </tr>\n",
       "  </tbody>\n",
       "</table>\n",
       "</div>"
      ],
      "text/plain": [
       "           A          B          C          D   E   diff  diff_f\n",
       "0 2020-01-05 2020-01-02 2020-01-02 2020-01-02  10 3 days     3.0\n",
       "1 2020-01-06 2020-01-03 2020-01-03 2020-01-03   5 3 days     3.0\n",
       "2 2020-01-07        NaT 2020-01-04        NaT   8    NaT     NaN\n",
       "3 2020-01-08 2020-01-05 2020-01-05 2020-01-05   1 3 days     3.0"
      ]
     },
     "metadata": {},
     "output_type": "display_data"
    },
    {
     "name": "stdout",
     "output_type": "stream",
     "text": [
      "A          datetime64[ns]\n",
      "B          datetime64[ns]\n",
      "C          datetime64[ns]\n",
      "D          datetime64[ns]\n",
      "E                   int64\n",
      "diff      timedelta64[ns]\n",
      "diff_f            float64\n",
      "dtype: object\n"
     ]
    }
   ],
   "source": [
    "display(df)\n",
    "print(df.dtypes)"
   ]
  },
  {
   "cell_type": "markdown",
   "metadata": {},
   "source": [
    "# plot "
   ]
  },
  {
   "cell_type": "code",
   "execution_count": 15,
   "metadata": {},
   "outputs": [
    {
     "data": {
      "text/plain": [
       "[<matplotlib.lines.Line2D at 0x7f71f8ccdf98>]"
      ]
     },
     "execution_count": 15,
     "metadata": {},
     "output_type": "execute_result"
    },
    {
     "data": {
      "image/png": "[encoded data removed]",
      "text/plain": [
       "<Figure size 432x288 with 1 Axes>"
      ]
     },
     "metadata": {
      "needs_background": "light"
     },
     "output_type": "display_data"
    }
   ],
   "source": [
    "plt.plot(df[\"A\"], df[\"E\"])"
   ]
  },
  {
   "cell_type": "code",
   "execution_count": 16,
   "metadata": {},
   "outputs": [
    {
     "data": {
      "image/png": "[encoded data removed]",
      "text/plain": [
       "<Figure size 360x216 with 1 Axes>"
      ]
     },
     "metadata": {
      "needs_background": "light"
     },
     "output_type": "display_data"
    }
   ],
   "source": [
    "fig = plt.figure(figsize=(5,3))\n",
    "ax = fig.add_subplot(111)\n",
    "ax.plot(df[\"A\"],df[\"E\"])\n",
    "ax.xaxis.set_major_formatter(mdates.DateFormatter(\"%Y-%b-%d\"))\n",
    "plt.xticks(rotation=30)\n",
    "plt.show()"
   ]
  },
  {
   "cell_type": "code",
   "execution_count": 17,
   "metadata": {},
   "outputs": [
    {
     "data": {
      "text/plain": [
       "<matplotlib.axes._subplots.AxesSubplot at 0x7f71f674bda0>"
      ]
     },
     "execution_count": 17,
     "metadata": {},
     "output_type": "execute_result"
    },
    {
     "data": {
      "image/png": "[encoded data removed]",
      "text/plain": [
       "<Figure size 432x288 with 1 Axes>"
      ]
     },
     "metadata": {
      "needs_background": "light"
     },
     "output_type": "display_data"
    }
   ],
   "source": [
    "df.plot(x=\"A\", y =\"E\")"
   ]
  }
 ],
 "metadata": {
  "kernelspec": {
   "display_name": "Python 3",
   "language": "python",
   "name": "python3"
  },
  "language_info": {
   "codemirror_mode": {
    "name": "ipython",
    "version": 3
   },
   "file_extension": ".py",
   "mimetype": "text/x-python",
   "name": "python",
   "nbconvert_exporter": "python",
   "pygments_lexer": "ipython3",
   "version": "3.7.2"
  }
 },
 "nbformat": 4,
 "nbformat_minor": 4
}
